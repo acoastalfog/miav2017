{
 "cells": [
  {
   "cell_type": "markdown",
   "metadata": {},
   "source": [
    "This case study uses VTK to build a simple, interactive visualizer for polydata. First, we are going to set up a class that represents each layer of the polydata itself in VTK."
   ]
  },
  {
   "cell_type": "code",
   "execution_count": 20,
   "metadata": {},
   "outputs": [],
   "source": [
    "import vtk\n",
    "\n",
    "class ssLayer:\n",
    "    def __init__ (self, interactor, data):\n",
    "        self.interactor = interactor\n",
    "        self.data = data\n",
    "        \n",
    "        self.properties = vtk.vtkProperty()\n",
    "        \n",
    "        self.mapper = vtk.vtkPolyDataMapper()\n",
    "        self.mapper.SetInputData(self.data)\n",
    "        \n",
    "        self.actor = vtk.vtkActor()\n",
    "        self.actor.SetMapper(self.mapper)\n",
    "        self.actor.SetProperty(self.properties)\n",
    "    \n",
    "        self.box = vtk.vtkBoxWidget()\n",
    "        self.box.SetInteractor(self.interactor)\n",
    "        self.box.SetPlaceFactor(1.00)\n",
    "        self.box.SetInputData(self.data)\n",
    "        self.box.InsideOutOn()\n",
    "        self.box.PlaceWidget()\n",
    "        self.box.EnabledOff()\n",
    "        \n",
    "        self.planes = vtk.vtkPlanes()\n",
    "        self.box.GetPlanes(self.planes)\n",
    "        \n",
    "        self.mapper.SetClippingPlanes(self.planes)\n",
    "        \n",
    "        self.box.AddObserver(\"InteractionEvent\", self.boxClip)\n",
    "        \n",
    "    def boxClip (self, widget, event_string):\n",
    "        self.box, self.mapper\n",
    "        self.box.GetPlanes(self.planes)\n",
    "        self.mapper.SetClippingPlanes(self.planes)"
   ]
  },
  {
   "cell_type": "markdown",
   "metadata": {},
   "source": [
    "Above, what you see is a class that handles each layer of the visualization in VTK. Each layer has its own box and can be independently clipped via the callback boxClip member function. The mapper interacts with the actor to set properties on the data (such as the transfer function in volume rendering, or in this case properties like color and opacity). Now, let's get our first polydata object. First, we have to build the renderer and set some basic properties so we can tell each layer which render it belongs to. Then we simply add the actor to the renderer and render the window!"
   ]
  },
  {
   "cell_type": "markdown",
   "metadata": {},
   "source": [
    "Now, let's instantiate a layer for this data. First, we have to build the renderer and set some basic properties so we can tell each layer which render it belongs to. Then we simply add the actor to the renderer and render the window!"
   ]
  },
  {
   "cell_type": "code",
   "execution_count": 21,
   "metadata": {},
   "outputs": [],
   "source": [
    "renderer = vtk.vtkRenderer()\n",
    "renderWindow = vtk.vtkRenderWindow()\n",
    "renderWindow.AddRenderer(renderer)\n",
    "renderWindowInteractor = vtk.vtkRenderWindowInteractor()\n",
    "renderWindowInteractor.SetRenderWindow(renderWindow)\n",
    "        \n",
    "interactionStyle = vtk.vtkInteractorStyleTrackballCamera()\n",
    "renderWindowInteractor.SetInteractorStyle(interactionStyle)\n",
    "\n",
    "reader = vtk.vtkPolyDataReader()\n",
    "reader.SetFileName(\"data/vtk/Subcortical_Structure__1_1.vtk\")\n",
    "reader.Update()\n",
    "data = reader.GetOutput()\n",
    "\n",
    "dataLayerA = ssLayer(renderWindowInteractor, data)\n",
    "\n",
    "renderer.AddActor(dataLayerA.actor)\n",
    "renderWindow.Render()\n",
    "renderWindowInteractor.Start()"
   ]
  },
  {
   "cell_type": "markdown",
   "metadata": {},
   "source": [
    "Success! This in and of itself maybe isn't all that exciting. It would be much better to be able to use multiple structures and interact with them independently. So let's add in a couple of data sets then. Then, "
   ]
  },
  {
   "cell_type": "code",
   "execution_count": 22,
   "metadata": {},
   "outputs": [],
   "source": [
    "import webcolors\n",
    "\n",
    "renderer = vtk.vtkRenderer()\n",
    "renderWindow = vtk.vtkRenderWindow()\n",
    "renderWindow.AddRenderer(renderer)\n",
    "renderWindowInteractor = vtk.vtkRenderWindowInteractor()\n",
    "renderWindowInteractor.SetRenderWindow(renderWindow)\n",
    "        \n",
    "interactionStyle = vtk.vtkInteractorStyleTrackballCamera()\n",
    "renderWindowInteractor.SetInteractorStyle(interactionStyle)\n",
    "\n",
    "reader = vtk.vtkPolyDataReader()\n",
    "reader.SetFileName(\"data/vtk/Subcortical_Structure__1_1.vtk\")\n",
    "reader.Update()\n",
    "data = reader.GetOutput()\n",
    "\n",
    "dataLayerA = ssLayer(renderWindowInteractor, data)\n",
    "dataLayerA.properties.SetColor(webcolors.name_to_rgb('red'))\n",
    "dataLayerA.properties.SetOpacity(0.4)\n",
    "dataLayerA.box.EnabledOn()\n",
    "renderer.AddActor(dataLayerA.actor)\n",
    "\n",
    "reader = vtk.vtkPolyDataReader()\n",
    "reader.SetFileName(\"data/vtk/Subcortical_Structure__2_2.vtk\")\n",
    "reader.Update()\n",
    "data = reader.GetOutput()\n",
    "\n",
    "dataLayerB = ssLayer(renderWindowInteractor, data)\n",
    "dataLayerB.properties.SetColor(webcolors.name_to_rgb('green'))\n",
    "dataLayerB.properties.SetOpacity(0.4)\n",
    "renderer.AddActor(dataLayerB.actor)\n",
    "\n",
    "reader = vtk.vtkPolyDataReader()\n",
    "reader.SetFileName(\"data/vtk/Subcortical_Structure__3_3.vtk\")\n",
    "reader.Update()\n",
    "data = reader.GetOutput()\n",
    "\n",
    "dataLayerC = ssLayer(renderWindowInteractor, data)\n",
    "renderer.AddActor(dataLayerC.actor)\n",
    "\n",
    "renderWindow.Render()\n",
    "renderWindowInteractor.Start()"
   ]
  },
  {
   "cell_type": "code",
   "execution_count": null,
   "metadata": {},
   "outputs": [],
   "source": []
  }
 ],
 "metadata": {
  "kernelspec": {
   "display_name": "Python 3",
   "language": "python",
   "name": "python3"
  },
  "language_info": {
   "codemirror_mode": {
    "name": "ipython",
    "version": 3
   },
   "file_extension": ".py",
   "mimetype": "text/x-python",
   "name": "python",
   "nbconvert_exporter": "python",
   "pygments_lexer": "ipython3",
   "version": "3.6.3"
  }
 },
 "nbformat": 4,
 "nbformat_minor": 2
}
